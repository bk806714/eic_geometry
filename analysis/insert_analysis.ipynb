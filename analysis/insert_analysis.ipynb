{
 "cells": [
  {
   "cell_type": "code",
   "execution_count": 79,
   "id": "52183233",
   "metadata": {
    "scrolled": true
   },
   "outputs": [
    {
     "name": "stdout",
     "output_type": "stream",
     "text": [
      "\n",
      "3000 * {\"MCParticles.PDG\": var * int32, \"MCParticles.generatorStatus\": var * int32, \"MCParticles.simulatorStatus\": var * int32, \"MCParticles.charge\": var * float32, \"MCParticles.time\": var * float32, \"MCParticles.mass\": var * float64, \"MCParticles.vertex.x\": var * float64, \"MCParticles.vertex.y\": var * float64, \"MCParticles.vertex.z\": var * float64, \"MCParticles.endpoint.x\": var * float64, \"MCParticles.endpoint.y\": var * float64, \"MCParticles.endpoint.z\": var * float64, \"MCParticles.momentum.x\": var * float32, \"MCParticles.momentum.y\": var * float32, \"MCParticles.momentum.z\": var * float32, \"MCParticles.momentumAtEndpoint.x\": var * float32, \"MCParticles.momentumAtEndpoint.y\": var * float32, \"MCParticles.momentumAtEndpoint.z\": var * float32, \"MCParticles.spin.x\": var * float32, \"MCParticles.spin.y\": var * float32, \"MCParticles.spin.z\": var * float32, \"MCParticles.colorFlow.a\": var * int32, \"MCParticles.colorFlow.b\": var * int32, \"MCParticles.parents_begin\": var * uint32, \"MCParticles.parents_end\": var * uint32, \"MCParticles.daughters_begin\": var * uint32, \"MCParticles.daughters_end\": var * uint32}\n",
      "\n",
      "\n",
      "3000 * {\"HcalEndcapPInsertHitsDigi.cellID\": var * uint64, \"HcalEndcapPInsertHitsDigi.amplitude\": var * uint64, \"HcalEndcapPInsertHitsDigi.timeStamp\": var * uint64, \"HcalEndcapPInsertHitsReco.cellID\": var * uint64, \"HcalEndcapPInsertHitsReco.energy\": var * float32, \"HcalEndcapPInsertHitsReco.energyError\": var * float32, \"HcalEndcapPInsertHitsReco.time\": var * float32, \"HcalEndcapPInsertHitsReco.timeError\": var * float32, \"HcalEndcapPInsertHitsReco.position.x\": var * float32, \"HcalEndcapPInsertHitsReco.position.y\": var * float32, \"HcalEndcapPInsertHitsReco.position.z\": var * float32, \"HcalEndcapPInsertHitsReco.dimension.x\": var * float32, \"HcalEndcapPInsertHitsReco.dimension.y\": var * float32, \"HcalEndcapPInsertHitsReco.dimension.z\": var * float32, \"HcalEndcapPInsertHitsReco.sector\": var * int32, \"HcalEndcapPInsertHitsReco.layer\": var * int32, \"HcalEndcapPInsertHitsReco.local.x\": var * float32, \"HcalEndcapPInsertHitsReco.local.y\": var * float32, \"HcalEndcapPInsertHitsReco.local.z\": var * float32, \"HcalEndcapPInsertHitsRecoXY.cellID\": var * uint64, \"HcalEndcapPInsertHitsRecoXY.energy\": var * float32, \"HcalEndcapPInsertHitsRecoXY.energyError\": var * float32, \"HcalEndcapPInsertHitsRecoXY.time\": var * float32, \"HcalEndcapPInsertHitsRecoXY.timeError\": var * float32, \"HcalEndcapPInsertHitsRecoXY.position.x\": var * float32, \"HcalEndcapPInsertHitsRecoXY.position.y\": var * float32, \"HcalEndcapPInsertHitsRecoXY.position.z\": var * float32, \"HcalEndcapPInsertHitsRecoXY.dimension.x\": var * float32, \"HcalEndcapPInsertHitsRecoXY.dimension.y\": var * float32, \"HcalEndcapPInsertHitsRecoXY.dimension.z\": var * float32, \"HcalEndcapPInsertHitsRecoXY.sector\": var * int32, \"HcalEndcapPInsertHitsRecoXY.layer\": var * int32, \"HcalEndcapPInsertHitsRecoXY.local.x\": var * float32, \"HcalEndcapPInsertHitsRecoXY.local.y\": var * float32, \"HcalEndcapPInsertHitsRecoXY.local.z\": var * float32}\n",
      "\n",
      "Primary particle analysis...\n",
      "ADC array length:\n",
      "[342, 261, 119, 296, 244, 177, 163, 192, ... 679, 750, 845, 404, 705, 1189, 578]\n",
      "Energy array length:\n",
      "[342, 261, 119, 296, 244, 177, 163, 192, ... 679, 750, 845, 404, 705, 1189, 578]\n",
      "Time array length:\n",
      "[342, 261, 119, 296, 244, 177, 163, 192, ... 679, 750, 845, 404, 705, 1189, 578]\n",
      "\n",
      "Energy array before cut:\n",
      "[[0.00047, 0.000493, 0.000569, 0.000533, ... 1.53e-05, 0.000423, 3.2e-05, 3.05e-06]]\n",
      "Energy array after cut:\n",
      "[[0.00047, 0.000493, 0.000569, 0.000533, ... 0.000363, 7.93e-05, 0.000131, 0.000423]]\n",
      "\n",
      "Energy sum after cut:\n",
      "[0.0497, 0.0527, 0.0433, 0.0376, 0.0474, ... 0.227, 0.234, 0.239, 0.243, 0.217]\n",
      "\n",
      "Generated Energy:\n",
      "[5.14, 5.14, 5.14, 5.14, 5.14, 5.14, 5.14, ... 25.1, 25.1, 25.1, 25.1, 25.1, 25.1]\n"
     ]
    },
    {
     "data": {
      "image/png": "[encoded data removed]",
      "text/plain": [
       "<Figure size 432x288 with 3 Axes>"
      ]
     },
     "metadata": {
      "needs_background": "light"
     },
     "output_type": "display_data"
    },
    {
     "data": {
      "image/png": "[encoded data removed]",
      "text/plain": [
       "<Figure size 432x288 with 1 Axes>"
      ]
     },
     "metadata": {
      "needs_background": "light"
     },
     "output_type": "display_data"
    }
   ],
   "source": [
    "import uproot\n",
    "import awkward as ak\n",
    "import numpy as np\n",
    "import matplotlib as mpl\n",
    "import matplotlib.pyplot as plt\n",
    "\n",
    "#load multiple ROOT files and get MCParticles and Insert branches\n",
    "gen_arrays = uproot.concatenate(['input/rec_cal_output.5.root:events','input/rec_cal_output.10.root:events',\n",
    "                                'input/rec_cal_output.25.root:events'],filter_name=\"MCParticles/*\")\n",
    "print(\"\")\n",
    "print(gen_arrays.type)\n",
    "print(\"\")\n",
    "\n",
    "cal_arrays = uproot.concatenate(['input/rec_cal_output.5.root:events','input/rec_cal_output.10.root:events',\n",
    "                                'input/rec_cal_output.25.root:events'],filter_name=\"HcalEndcapPInsertHits*\")\n",
    "print(\"\")\n",
    "print(cal_arrays.type)\n",
    "print(\"\")\n",
    "\n",
    "#Get Primary (i.e. generated) particle information\n",
    "print(\"Primary particle analysis...\")\n",
    "cut_primary = gen_arrays[\"MCParticles.generatorStatus\"]==1 #cut to apply\n",
    "\n",
    "gen_px = gen_arrays[\"MCParticles.momentum.x\"][cut_primary]\n",
    "gen_py = gen_arrays[\"MCParticles.momentum.y\"][cut_primary]\n",
    "gen_pz = gen_arrays[\"MCParticles.momentum.z\"][cut_primary]\n",
    "gen_mass = gen_arrays[\"MCParticles.mass\"][cut_primary]\n",
    "\n",
    "gen_pt = np.sqrt(gen_px**2+gen_py**2)\n",
    "gen_mom = np.sqrt(gen_px**2+gen_py**2+gen_pz**2)\n",
    "gen_energy = np.sqrt(gen_mom**2+gen_mass**2)\n",
    "gen_theta = np.arccos(gen_pz/gen_mom)\n",
    "gen_theta_deg = np.degrees(gen_theta)\n",
    "gen_eta = -1.*np.log( np.tan(gen_theta/2.) )\n",
    "\n",
    "#Get Calorimeter ADC value, hit energy, and hit time\n",
    "adc = cal_arrays[\"HcalEndcapPInsertHitsDigi.amplitude\"]\n",
    "energy = cal_arrays[\"HcalEndcapPInsertHitsReco.energy\"]\n",
    "time = cal_arrays[\"HcalEndcapPInsertHitsReco.time\"]\n",
    "\n",
    "#Check that arrays have the same length for each event\n",
    "print(\"ADC array length:\")\n",
    "print(ak.count(adc,axis=-1))\n",
    "print(\"Energy array length:\")\n",
    "print(ak.count(energy,axis=-1))\n",
    "print(\"Time array length:\")\n",
    "print(ak.count(time,axis=-1))\n",
    "\n",
    "#Apply cut on ADC and time\n",
    "cut_cal = (adc>450) & (time<200) \n",
    "\n",
    "print(\"\")\n",
    "print(\"Energy array before cut:\")\n",
    "print(energy)\n",
    "print(\"Energy array after cut:\")\n",
    "energy_cut = energy[cut_cal] \n",
    "print(energy_cut)\n",
    "\n",
    "#Sum energy hits for each event\n",
    "sum_energy = ak.sum(energy_cut,axis=-1)\n",
    "print(\"\")\n",
    "print(\"Energy sum after cut:\")\n",
    "print(sum_energy)\n",
    "print(\"\")\n",
    "print(\"Generated Energy:\")\n",
    "print(ak.flatten(gen_energy))\n",
    "\n",
    "#Loop over different generated energies\n",
    "sim_energies = [5,10,25]\n",
    "mycolor = ['red','blue']\n",
    "\n",
    "fig, (ax1,ax2,ax3) = plt.subplots(1,3)\n",
    "\n",
    "for sim_energy_sel in sim_energies:\n",
    "    \n",
    "    sel_cut = (gen_energy>sim_energy_sel-0.5) & (gen_energy<sim_energy_sel+0.5)\n",
    "    \n",
    "    gen_energy_sel = gen_energy[sel_cut]\n",
    "    gen_theta_deg_sel = gen_theta_deg[sel_cut]\n",
    "    sum_energy_sel = sum_energy[ak.flatten(sel_cut)]\n",
    "    \n",
    "    #Draw generated energy and angle\n",
    "    ax1.hist(ak.flatten(gen_energy_sel),label=\"generated energy\",bins=100,range=[0,30])\n",
    "    ax1.set_title(\"Gen Energy [GeV]\")\n",
    "    ax2.hist(ak.flatten(gen_theta_deg_sel),label=\"generated theta\",bins=100,range=[0,5])\n",
    "    ax2.set_title(\"Gen Theta [deg]\")\n",
    "\n",
    "    #Draw reconstructed energy\n",
    "    ax3.hist(sum_energy_sel,label=\"reconstructed energy\",bins=100,range=[1e-2,1])\n",
    "    ax3.set_title(\"Rec Energy [GeV]\")\n",
    "\n",
    "#Draw energy sum vs. generated energy (all energies)\n",
    "plt.figure()\n",
    "plt.hist2d(np.array(ak.flatten(gen_energy)),np.array(sum_energy),bins=(100,100),range=([0,30],[1e-2,1]),\n",
    "           cmap=plt.cm.jet,cmin = 1)\n",
    "plt.xlabel(\"Generated Energy [GeV]\")\n",
    "plt.ylabel(\"Insert Reconstructed Energy [GeV]\")\n",
    "plt.show()\n"
   ]
  },
  {
   "cell_type": "code",
   "execution_count": null,
   "id": "de055ed4",
   "metadata": {},
   "outputs": [],
   "source": []
  }
 ],
 "metadata": {
  "kernelspec": {
   "display_name": "Python 3 (ipykernel)",
   "language": "python",
   "name": "python3"
  },
  "language_info": {
   "codemirror_mode": {
    "name": "ipython",
    "version": 3
   },
   "file_extension": ".py",
   "mimetype": "text/x-python",
   "name": "python",
   "nbconvert_exporter": "python",
   "pygments_lexer": "ipython3",
   "version": "3.8.10"
  }
 },
 "nbformat": 4,
 "nbformat_minor": 5
}
